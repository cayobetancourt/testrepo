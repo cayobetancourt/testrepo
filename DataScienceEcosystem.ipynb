{
 "cells": [
  {
   "cell_type": "markdown",
   "id": "4b231f1f-97d3-4637-81c8-0be9c9174dc6",
   "metadata": {},
   "source": [
    "# H1: Data Science Tools and Ecosystem"
   ]
  },
  {
   "cell_type": "markdown",
   "id": "050a0d60-fc69-4750-885c-170901caeb80",
   "metadata": {},
   "source": [
    "In this notebook, Data Science Tools and Ecosystem are summarized."
   ]
  },
  {
   "cell_type": "markdown",
   "id": "17291b6a-48b7-45d9-9dec-d6ea4e370669",
   "metadata": {},
   "source": [
    "Some of the popular languages that Data Scientists use are:\n",
    "\n",
    "| language Name | Rank |\n",
    "| -------------| ------ |\n",
    "| Python | 1 |\n",
    "| SQL | 2 |\n",
    "| R | 3 |\n",
    "| VBA | 4 |\n",
    "| Julia | 5 |"
   ]
  },
  {
   "cell_type": "markdown",
   "id": "043b6980-7aa0-40b2-a293-75fcebd7bb11",
   "metadata": {},
   "source": [
    "Some of the commonly used libraries used by Data Scientists include:\n",
    "1. TensorFlow\n",
    "2. NumPy\n",
    "3. SciPy \n",
    "4. Pandas\n",
    "5. Matplotlib \n",
    "6. Keras\n",
    "7. SciKit-Learn\n",
    "8. PyTorch\n",
    "9. Scrapy\n",
    "10. BeautifulSoup\n",
    "11. LightGBM\n",
    "12. ELI5\n",
    "13. Theano\n",
    "14. NuPIC\n",
    "15. Ramp\n",
    "16. Pipenv\n",
    "17. Bob\n",
    "18. PyBrain\n",
    "19. Caffe2\n",
    "20. Chainer"
   ]
  },
  {
   "cell_type": "markdown",
   "id": "11e5477f-64c6-4a81-b255-ed9a0d7ff21b",
   "metadata": {},
   "source": [
    "\n",
    "| Data Science Tools |\n",
    "| -------------|\n",
    "| Anaconda |\n",
    "| R Studio |\n",
    "| Unix Shell |"
   ]
  },
  {
   "cell_type": "markdown",
   "id": "f4e14aeb-85e0-4e2e-80e7-e25dcdfffdc4",
   "metadata": {},
   "source": [
    "### H3:Below are a few examples of evaluating arithmetic expressions in Python"
   ]
  },
  {
   "cell_type": "code",
   "execution_count": 1,
   "id": "b210242f-07eb-416b-9113-02d63858b809",
   "metadata": {
    "tags": []
   },
   "outputs": [
    {
     "data": {
      "text/plain": [
       "17"
      ]
     },
     "execution_count": 1,
     "metadata": {},
     "output_type": "execute_result"
    }
   ],
   "source": [
    "#This a simple arithmetic expression to mutiply then add integers\n",
    "(3*4)+5"
   ]
  },
  {
   "cell_type": "code",
   "execution_count": 2,
   "id": "f6b7c830-5d04-484a-aff2-13744c7ed024",
   "metadata": {
    "tags": []
   },
   "outputs": [
    {
     "data": {
      "text/plain": [
       "3.3333333333333335"
      ]
     },
     "execution_count": 2,
     "metadata": {},
     "output_type": "execute_result"
    }
   ],
   "source": [
    "#his will convert 200 minutes to hours by diving by 60\n",
    "200/60"
   ]
  },
  {
   "cell_type": "markdown",
   "id": "9bdef44f-0666-4595-94c7-69c8b8369883",
   "metadata": {},
   "source": [
    "**Objectives:**"
   ]
  },
  {
   "cell_type": "markdown",
   "id": "9037c67a-369b-4a3f-ba5f-601fa2112faa",
   "metadata": {},
   "source": [
    "- List popular languages for Data Science\n",
    "- Identify common libraries\n",
    "- List environments"
   ]
  },
  {
   "cell_type": "markdown",
   "id": "ec40b466-57ef-4da1-95d3-b57dffd826dd",
   "metadata": {},
   "source": [
    "## H2: Author"
   ]
  },
  {
   "cell_type": "markdown",
   "id": "445e82b4-4f64-4d40-8c19-2c2127735a79",
   "metadata": {},
   "source": [
    "Cayo Betancourt"
   ]
  },
  {
   "cell_type": "code",
   "execution_count": null,
   "id": "7d689f54-6ffa-4051-b9fb-625457639f63",
   "metadata": {},
   "outputs": [],
   "source": []
  }
 ],
 "metadata": {
  "kernelspec": {
   "display_name": "Python",
   "language": "python",
   "name": "conda-env-python-py"
  },
  "language_info": {
   "codemirror_mode": {
    "name": "ipython",
    "version": 3
   },
   "file_extension": ".py",
   "mimetype": "text/x-python",
   "name": "python",
   "nbconvert_exporter": "python",
   "pygments_lexer": "ipython3",
   "version": "3.7.12"
  }
 },
 "nbformat": 4,
 "nbformat_minor": 5
}
